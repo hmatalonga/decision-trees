{
 "cells": [
  {
   "cell_type": "markdown",
   "metadata": {},
   "source": [
    "Esta solução pretende resolver um dos problemas propostos pelo professor como teste modelo\n",
    "\n",
    "Especificamente, o problema contido no documento revisoes.pdf\n",
    "\n",
    "Esta solução tentará ir ao máximo detalhe possivel para explicar o método de resolução passo por passo"
   ]
  },
  {
   "cell_type": "markdown",
   "metadata": {},
   "source": [
    "Nota: esta solução foi criada por um aluno, não deve ser considerada como resolução oficial em nenhuma circunstancia, servindo mais como exercicio de revisão para o criador"
   ]
  },
  {
   "cell_type": "code",
   "execution_count": 1,
   "metadata": {},
   "outputs": [],
   "source": [
    "import pandas as pd\n",
    "import numpy as np"
   ]
  },
  {
   "cell_type": "markdown",
   "metadata": {},
   "source": [
    "Primeiro passo: ler do ficheiro e obter os dados que pretendemos"
   ]
  },
  {
   "cell_type": "code",
   "execution_count": 2,
   "metadata": {},
   "outputs": [],
   "source": [
    "df =  pd.read_csv(filepath_or_buffer='room-temperature.csv', header=None, sep=',')"
   ]
  },
  {
   "cell_type": "code",
   "execution_count": 3,
   "metadata": {},
   "outputs": [],
   "source": [
    "X=df.loc[1:,1:4].values"
   ]
  },
  {
   "cell_type": "markdown",
   "metadata": {},
   "source": [
    "Segundo passo: colocar os dados no formato correto"
   ]
  },
  {
   "cell_type": "code",
   "execution_count": 4,
   "metadata": {},
   "outputs": [
    {
     "data": {
      "text/plain": [
       "(144, 4)"
      ]
     },
     "execution_count": 4,
     "metadata": {},
     "output_type": "execute_result"
    }
   ],
   "source": [
    "X.shape"
   ]
  },
  {
   "cell_type": "code",
   "execution_count": 5,
   "metadata": {},
   "outputs": [],
   "source": [
    "for i in range(0,144):\n",
    "    for j in range(0,4):\n",
    "        X[i][j]=float(X[i][j])"
   ]
  },
  {
   "cell_type": "markdown",
   "metadata": {},
   "source": [
    "Nota: se não se adicionar o dtype no final o tipo será considerado como objeto em vez de float, e o que fizemos em cima será inutil"
   ]
  },
  {
   "cell_type": "code",
   "execution_count": 6,
   "metadata": {},
   "outputs": [],
   "source": [
    "B = np.array(X,dtype=float)"
   ]
  },
  {
   "cell_type": "markdown",
   "metadata": {},
   "source": [
    "Fazemos a transposição da matriz\n",
    "\n",
    "Assim conseguimos que em vez de termos uma matriz 144 * 4 obtemos uma 4 * 144\n",
    "\n",
    "Isto é importante pelo facto que a matriz B.BT(onde BT é a matriz B transposta) tem os mesmos valores próprios não nulos que a matriz BT.B, e as dimensões para este caso passam de 144 * 144 para 4 * 4\n",
    "\n",
    "E sim, como a matriz está sobre dados numéricos podemos ver que a matriz tem 4 valores próprios não nulos"
   ]
  },
  {
   "cell_type": "code",
   "execution_count": 7,
   "metadata": {},
   "outputs": [],
   "source": [
    "B=B.T"
   ]
  },
  {
   "cell_type": "code",
   "execution_count": 8,
   "metadata": {},
   "outputs": [
    {
     "data": {
      "text/plain": [
       "(4, 144)"
      ]
     },
     "execution_count": 8,
     "metadata": {},
     "output_type": "execute_result"
    }
   ],
   "source": [
    "B.shape"
   ]
  },
  {
   "cell_type": "markdown",
   "metadata": {},
   "source": [
    "Se formos a verificar os dados de B vemos que eles não estão centrados em (0,0)\n",
    "Para resolvermos isto, basta calcular a média e subtrair"
   ]
  },
  {
   "cell_type": "code",
   "execution_count": 9,
   "metadata": {},
   "outputs": [],
   "source": [
    "media = np.mean(B,0)\n",
    "phi=B-media"
   ]
  },
  {
   "cell_type": "markdown",
   "metadata": {},
   "source": [
    "Com os dados centrados calculemos a matriz de covariância"
   ]
  },
  {
   "cell_type": "code",
   "execution_count": 10,
   "metadata": {},
   "outputs": [
    {
     "data": {
      "text/plain": [
       "array([[ 0.6834076 ,  0.24726323, -0.48413331, -0.44653752],\n",
       "       [ 0.24726323,  0.64830417, -0.47779226, -0.41777514],\n",
       "       [-0.48413331, -0.47779226,  0.65795233,  0.30397324],\n",
       "       [-0.44653752, -0.41777514,  0.30397324,  0.56033942]])"
      ]
     },
     "execution_count": 10,
     "metadata": {},
     "output_type": "execute_result"
    }
   ],
   "source": [
    "mat_cov = np.cov(phi)\n",
    "mat_cov"
   ]
  },
  {
   "cell_type": "markdown",
   "metadata": {},
   "source": [
    "Em seguida vamos calcular os valores próprios e seus vetores próprios associados"
   ]
  },
  {
   "cell_type": "code",
   "execution_count": 11,
   "metadata": {},
   "outputs": [
    {
     "data": {
      "text/plain": [
       "(array([ 1.82978200e+00, -1.91338430e-16,  4.19467288e-01,  3.00754230e-01]),\n",
       " array([[-0.511587  , -0.5       ,  0.69694553,  0.05045462],\n",
       "        [-0.48724752, -0.5       , -0.70933841, -0.09710233],\n",
       "        [ 0.5313029 , -0.5       ,  0.08045662, -0.67914944],\n",
       "        [ 0.46753163, -0.5       , -0.06806374,  0.72579715]]))"
      ]
     },
     "execution_count": 11,
     "metadata": {},
     "output_type": "execute_result"
    }
   ],
   "source": [
    "valprop_sc, vect_prop_sc = np.linalg.eig(mat_cov)\n",
    "valprop_sc, vect_prop_sc "
   ]
  },
  {
   "cell_type": "markdown",
   "metadata": {},
   "source": [
    "Infelizmente o eig não ordena os valores nem os vetores próprios\n",
    "\n",
    "Portanto temos de ser nós a fazer manualmente"
   ]
  },
  {
   "cell_type": "code",
   "execution_count": 12,
   "metadata": {},
   "outputs": [
    {
     "data": {
      "text/plain": [
       "(array([ 1.82978200e+00,  4.19467288e-01,  3.00754230e-01, -1.91338430e-16]),\n",
       " array([[-0.511587  ,  0.69694553,  0.05045462, -0.5       ],\n",
       "        [-0.48724752, -0.70933841, -0.09710233, -0.5       ],\n",
       "        [ 0.5313029 ,  0.08045662, -0.67914944, -0.5       ],\n",
       "        [ 0.46753163, -0.06806374,  0.72579715, -0.5       ]]))"
      ]
     },
     "execution_count": 12,
     "metadata": {},
     "output_type": "execute_result"
    }
   ],
   "source": [
    "idx = valprop_sc.argsort()[::-1]\n",
    "valprop_sc = valprop_sc[idx]\n",
    "vect_prop_sc = vect_prop_sc[:,idx]\n",
    "valprop_sc,vect_prop_sc"
   ]
  },
  {
   "cell_type": "markdown",
   "metadata": {},
   "source": [
    "Como estávamos à espera, temos 4 valores próprios\n",
    "\n",
    "Se olharmos para eles podemos ver que um deles à partida será retirado(ordem de grandeza imensamente inferior)\n",
    "\n",
    "No entanto, devemos calcular própriamente se isto vai ocorrer ou não\n",
    "\n",
    "Antes de mais, vamos calcular o traço, que é simplesmente o sumatório dos valores próprios da matriz"
   ]
  },
  {
   "cell_type": "code",
   "execution_count": 13,
   "metadata": {},
   "outputs": [],
   "source": [
    "traco=sum(valprop_sc)"
   ]
  },
  {
   "cell_type": "markdown",
   "metadata": {},
   "source": [
    "Com estes dados obtidos podemos finalmente fazer a primeira parte do exercicio: verificar se podemos reduzir dimensão ou não\n",
    "\n",
    "Para tal podemos simplesmente correr um simples ciclo while"
   ]
  },
  {
   "cell_type": "code",
   "execution_count": 14,
   "metadata": {},
   "outputs": [
    {
     "data": {
      "text/plain": [
       "(3, 1.0)"
      ]
     },
     "execution_count": 14,
     "metadata": {},
     "output_type": "execute_result"
    }
   ],
   "source": [
    "confianca_alvo=0.9\n",
    "k=0\n",
    "confianca=0\n",
    "while confianca < confianca_alvo:\n",
    "    confianca= confianca+valprop_sc[k]/traco\n",
    "    k+=1\n",
    "k, confianca"
   ]
  },
  {
   "cell_type": "markdown",
   "metadata": {},
   "source": [
    "Como estavamos à espera, podemos retirar um dos valores próprios\n",
    "\n",
    "De facto neste caso o último contém tão pouca informação que a perda esperada é de 0.0\n",
    "\n",
    "Assim está concluida a primeira parte do processo: determinar se se pode reduzir a dimensão da matriz de modo a que a perda da informação seja inferior a 90%\n",
    "\n",
    "\"Convenientemente\", temos 3 valores próprios, pelo que temos 3 vectores próprios a eles associados, pelo que, como estamos a operar sobre valores reais, podemos projetar nos vetores e visualizar dita projecção(se quisermos)\n",
    "\n",
    "Neste caso, não nos é pedida nenhuma imagem para visualizar a projecção, portanto não nos focaremos nisso"
   ]
  },
  {
   "cell_type": "markdown",
   "metadata": {},
   "source": [
    "Primeiro vamos renomear as variáveis para algo ligeiramente mais compreensivel"
   ]
  },
  {
   "cell_type": "code",
   "execution_count": 15,
   "metadata": {},
   "outputs": [],
   "source": [
    "l = valprop_sc\n",
    "principal_axes  = vect_prop_sc\n",
    "principal_components = phi.T.dot(principal_axes)\n"
   ]
  },
  {
   "cell_type": "markdown",
   "metadata": {},
   "source": [
    "Vamos então reduzir a dimensão"
   ]
  },
  {
   "cell_type": "code",
   "execution_count": 17,
   "metadata": {},
   "outputs": [],
   "source": [
    "PC_k = principal_components[:, 0:3]"
   ]
  },
  {
   "cell_type": "code",
   "execution_count": 21,
   "metadata": {},
   "outputs": [
    {
     "data": {
      "text/plain": [
       "(144, 3)"
      ]
     },
     "execution_count": 21,
     "metadata": {},
     "output_type": "execute_result"
    }
   ],
   "source": [
    "PC_k.shape"
   ]
  },
  {
   "cell_type": "markdown",
   "metadata": {},
   "source": [
    "E .... está\n",
    "\n",
    "A sério, é só isso\n",
    "\n",
    "Em PC_k temos os valores das projeções dos vários pontos sobre os 3 vetores que calculamos"
   ]
  },
  {
   "cell_type": "code",
   "execution_count": 0,
   "metadata": {},
   "outputs": [],
   "source": []
  }
 ],
 "metadata": {
  "kernelspec": {
   "display_name": "Python 3",
   "language": "python",
   "name": "python3"
  },
  "language_info": {
   "codemirror_mode": {
    "name": "ipython",
    "version": 3
   },
   "file_extension": ".py",
   "mimetype": "text/x-python",
   "name": "python",
   "nbconvert_exporter": "python",
   "pygments_lexer": "ipython3",
   "version": "3.5.2"
  }
 },
 "nbformat": 4,
 "nbformat_minor": 1
}
